{
 "metadata": {
  "language_info": {
   "codemirror_mode": {
    "name": "ipython",
    "version": 3
   },
   "file_extension": ".py",
   "mimetype": "text/x-python",
   "name": "python",
   "nbconvert_exporter": "python",
   "pygments_lexer": "ipython3",
   "version": "3.9.5"
  },
  "orig_nbformat": 2,
  "kernelspec": {
   "name": "python395jvsc74a57bd04ec04d74b0bf996affc2cd384cf50260c715af8c70e31c5a4643c68e28fa9e1e",
   "display_name": "Python 3.9.5 64-bit ('venv': venv)",
   "language": "python"
  },
  "metadata": {
   "interpreter": {
    "hash": "63fd5069d213b44bf678585dea6b12cceca9941eaf7f819626cde1f2670de90d"
   }
  }
 },
 "nbformat": 4,
 "nbformat_minor": 2,
 "cells": [
  {
   "source": [
    "### Book Information"
   ],
   "cell_type": "markdown",
   "metadata": {}
  },
  {
   "source": [
    "- This whole scraping I am using BeautifulSoup as scraping tool\n",
    "- The website I scraped is 'https://www.waterstones.com/books/search'\n",
    "- Fristly import necessary libraies\n",
    "- Run the script to get data\n",
    "- write_to_pickle function to save the scraped data as pickle file"
   ],
   "cell_type": "markdown",
   "metadata": {}
  },
  {
   "cell_type": "code",
   "execution_count": 1,
   "metadata": {},
   "outputs": [],
   "source": [
    "from bs4 import BeautifulSoup\n",
    "from numpy import random\n",
    "from datetime import datetime\n",
    "import requests\n",
    "import pandas as pd\n",
    "import os\n",
    "import csv\n",
    "\n",
    "\n",
    "def write_to_pickle(name, data): ### This function takes whatever list/dict into dataframe and convert it into a pickle file\n",
    "    file_name = f'{name}.pkl'\n",
    "    \n",
    "    if file_name in os.listdir():\n",
    "        return 'File already exist'\n",
    "\n",
    "    df = pd.DataFrame(data)\n",
    "    df.to_pickle(file_name)\n",
    "\n",
    "\n",
    "def get_book_links(page_number=1): ### This function takes page_number as input, to get the all books on each page\n",
    "    url = f'https://www.waterstones.com/books/search/page/{page_number}'\n",
    "    r = requests.get(url)\n",
    "    soup = BeautifulSoup(r.text)\n",
    "\n",
    "    book_list = []\n",
    "    items = soup.find_all('div',class_='info-wrap')\n",
    "\n",
    "    for item in items:\n",
    "        book = {}\n",
    "\n",
    "        book['title'] = item.find('div', class_='title-wrap').text.strip()\n",
    "        book['author'] = item.find('span', class_='author').text.strip()\n",
    "        book['price'] = item.find('span', class_='price').text[1:]\n",
    "        book['book_format'] = item.find_all('span', class_='format')[1].text.strip()\n",
    "        book['book_link'] = 'https://www.waterstones.com' + item.find('a')['href']\n",
    "        book['page_url'] = url\n",
    "        book_list.append(book)\n",
    "    \n",
    "    assert len(book_list) >0, 'empty book list returned'\n",
    "    return book_list"
   ]
  },
  {
   "source": [
    "### Get basic information and URLs about the books\n",
    "\n",
    "- First scrape the whole page(24 books on one page)\n",
    "- The information are [title, author, price, book format, book link, each page url\n",
    "- Changing the page number for getting more books\n",
    "- For every 1894 books, write them to pickle file\n"
   ],
   "cell_type": "markdown",
   "metadata": {}
  },
  {
   "cell_type": "code",
   "execution_count": null,
   "metadata": {},
   "outputs": [],
   "source": []
  },
  {
   "cell_type": "code",
   "execution_count": null,
   "metadata": {},
   "outputs": [],
   "source": [
    "print('START:', datetime.now())\n",
    "\n",
    "books = []\n",
    "\n",
    "# total 20834 pages (it may be best to break this scrape up)\n",
    "for i in range(1, 20834 + 1): \n",
    "    try:\n",
    "        books.append(get_book_links(i))\n",
    "\n",
    "        if i % 1894 == 0:\n",
    "            books = [item for sublist in books for item in sublist]\n",
    "            write_to_pickle(f'book_links_{i}', books)\n",
    "            books = []\n",
    "\n",
    "    except Exception as err: ### write to error file if there is an error\n",
    "        with open('errors.txt', 'a') as f:\n",
    "            f.write(f'{i}:{err}\\n')\n",
    "\n",
    "print('FINISH:', datetime.now())"
   ]
  }
 ]
}